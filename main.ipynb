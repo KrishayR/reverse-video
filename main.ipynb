{
 "cells": [
  {
   "cell_type": "code",
   "execution_count": null,
   "metadata": {},
   "outputs": [],
   "source": [
    "import cv2\n",
    "\n",
    "# Create a VideoCapture object to read the video file\n",
    "try:\n",
    "    capture = cv2.VideoCapture(\"video2.avi\")\n",
    "except:\n",
    "    print(\"Error opening video\")\n",
    "\n",
    "\n",
    "frame_idx = capture.get(cv2.CAP_PROP_FRAME_COUNT) - 1\n",
    "\n",
    "while capture.isOpened() and frame_idx >= 0:\n",
    "\n",
    "    # Set the current frame position to start:\n",
    "    capture.set(cv2.CAP_PROP_POS_FRAMES, frame_idx)\n",
    "\n",
    "    # Capture frame-by-frame from the video:\n",
    "    try:\n",
    "        ret, frame = capture.read()\n",
    "        cv2.imshow('Video In reverse', frame)\n",
    "        frame_idx -= 1\n",
    "        if cv2.waitKey(30) & 0xFF == ord('x'):\n",
    "            break\n",
    "    except:\n",
    "        print('Video finished')\n",
    "        break\n",
    "        \n",
    "    \n",
    "        \n",
    "\n",
    "\n",
    "# Release the VideoCapture object:\n",
    "capture.release()\n",
    "cv2.destroyAllWindows()"
   ]
  },
  {
   "cell_type": "code",
   "execution_count": null,
   "metadata": {},
   "outputs": [],
   "source": []
  },
  {
   "cell_type": "code",
   "execution_count": null,
   "metadata": {},
   "outputs": [],
   "source": []
  }
 ],
 "metadata": {
  "kernelspec": {
   "display_name": "Python 3",
   "language": "python",
   "name": "python3"
  },
  "language_info": {
   "codemirror_mode": {
    "name": "ipython",
    "version": 3
   },
   "file_extension": ".py",
   "mimetype": "text/x-python",
   "name": "python",
   "nbconvert_exporter": "python",
   "pygments_lexer": "ipython3",
   "version": "3.7.6"
  }
 },
 "nbformat": 4,
 "nbformat_minor": 4
}
